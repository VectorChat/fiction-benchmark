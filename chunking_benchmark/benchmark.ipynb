{
 "cells": [
  {
   "cell_type": "markdown",
   "metadata": {},
   "source": [
    "# Chunking Subnet Benchmark"
   ]
  },
  {
   "cell_type": "markdown",
   "metadata": {},
   "source": [
    "## Introduction\n",
    "\n",
    "Like before, we setup the typical RAG pipeline for answering multiple choice questions that require context from a fictional book to answer. High quality questions were created from Claude's 3.5 sonnet model for each chapter of the book.\n",
    "\n",
    "We used ***The Fourth Wing** by Rebecca Yarros* (~250k tokens), as we did in the [Chunking.com text benchmark](https://github.com/VectorChat/text-chunking-benchmarks) (prior to the subnet) as it made it easier to manually check question and retrieval quality during early stage experimentation. The questions this time around were harder to answer without the proper context, and we found that `gpt-4o-mini` would consistently get only around ~30% of the questions correct without context. This is what we use as the baseline for the benchmark. \n",
    "\n",
    "## Methodology\n",
    "\n",
    "1) Chunking\n",
    "    - Each chunker chunked each chapter of the book individually, these chunks were then embedded individually and stored\n",
    "    in Pinecone for later use.\n",
    "    - See the [README](../README.md) for how to query miners on the subnet.\n",
    "    - Each chunker had a different namespace to ensure that different chunks were not mixed up.\n",
    "3) Retrieval (done for each question, using a combination of a vector database and reranker): \n",
    "    - Query the vector database, using the question as the embedding, for the top `rerank_buffer_size` chunks for a given question.\n",
    "    - Pass all `rerank_buffer_size` chunks to a reranker (Cohere or Pinecone)\n",
    "    - Select the top `top_k` chunks from the reranker to be used as relevant context for the question\n",
    "        - We found that reranking greatly improved the retrieval process: without reranking, we were seeing as much as 75% of questions having irrelevant context.\n",
    "        - Thus, we used Cohere's reranker with the same parameters for all chunk methods in this benchmark.\n",
    "3) Question Answering (in [questions.csv](questions.csv)):\n",
    "    - For each question: pass question, context retrieved from before, and answer choices to a language model (in this case, \"gpt-4o-mini\")\n",
    "    - Score the language model for each question (correct or incorrect) based on whether it chose the correct answer choice out of 8 answers.\n",
    "    - repeat for all questions; percent accuracy is the main metric for this benchmark."
   ]
  },
  {
   "cell_type": "markdown",
   "metadata": {},
   "source": [
    "![Diagram explaining chunking benchmark](../assets/method.png)"
   ]
  },
  {
   "cell_type": "markdown",
   "metadata": {},
   "source": [
    "### Notes\n",
    "\n",
    "- For the Cohere reranking step, we made sure to set `max_chunks_per_doc=1` to force the reranker to use the chunks we gave it, rather than chunking each chunk again:"
   ]
  },
  {
   "cell_type": "code",
   "execution_count": null,
   "metadata": {},
   "outputs": [],
   "source": [
    "import cohere\n",
    "import os\n",
    "from dotenv import load_dotenv\n",
    "\n",
    "load_dotenv()\n",
    "\n",
    "co = cohere.Client(api_key=os.getenv(\"CO_API_KEY\"))\n",
    "\n",
    "k = 3\n",
    "\n",
    "res = co.rerank(\n",
    "    query=\"What is the meaning of life?\",\n",
    "    documents=[\"The meaning of life is 42\", \"There is no meaning of life\", \"Happiness is the meaning of life\"],\n",
    "    model=\"rerank-english-v3.0\",\n",
    "    top_n=k,\n",
    "    max_chunks_per_doc=1 # this makes sure the reranker only uses the chunks we give it and does not further subdivide\n",
    ")\n",
    "\n",
    "print(res)"
   ]
  },
  {
   "cell_type": "markdown",
   "metadata": {},
   "source": [
    "- We did some simple preprocessing to the text, demoed below. We made sure to remove newlines within sentences, and remove extra spaces, leading and trailing spaces, and spaces after ' and before .,-’\""
   ]
  },
  {
   "cell_type": "code",
   "execution_count": null,
   "metadata": {},
   "outputs": [],
   "source": [
    "from nltk.tokenize import sent_tokenize\n",
    "import regex as re\n",
    "\n",
    "def clean_text(text: str) -> str:\n",
    "  sentences = sent_tokenize(text)\n",
    "\n",
    "  # Remove newlines within sentences\n",
    "  cleaned_sentences = [sentence.replace('\\n', ' ') for sentence in sentences]\n",
    "\n",
    "  def clean_sent(sentence):\n",
    "    # Remove extra spaces\n",
    "    sentence = re.sub(r'\\s+', ' ', sentence)\n",
    "    # Remove leading and trailing spaces\n",
    "    sentence = sentence.strip()\n",
    "    # Remove spaces after ' and before \".,-’\"\n",
    "    sentence = re.sub(r'’ ', '', sentence)\n",
    "    sentence = re.sub(r' ’', '', sentence)\n",
    "    sentence = re.sub(r' \\.', '', sentence)\n",
    "    sentence = re.sub(r' \\,', '', sentence)\n",
    "    sentence = re.sub(r' \\-', '', sentence)\n",
    "\n",
    "    return sentence\n",
    "\n",
    "  # for each sentence, clean it and join together\n",
    "  cleaned_text = '\\n'.join([clean_sent(sentence) for sentence in cleaned_sentences])\n",
    "  return cleaned_text"
   ]
  },
  {
   "cell_type": "markdown",
   "metadata": {},
   "source": [
    "- here's the prompt we used for the benchmark:\n",
    "\n",
    "```py\n",
    "prompt = f\"\"\"\n",
    "        Here's a question from chapter {chapter} of the book \"{display_doc_name}\":\n",
    "                \n",
    "        <QUESTION>\n",
    "        {question}\n",
    "        \n",
    "        {choices_str}\n",
    "        </QUESTION>\n",
    "        \n",
    "        <CONTEXT>\n",
    "        {context}   \n",
    "        </CONTEXT>\n",
    "        \n",
    "        Relevant context will be provided in the CONTEXT section, do not use any other context. Even if the context is not relevant, you should still answer the question to the best of your ability.\n",
    "        \n",
    "        Please think about your answer step by step before choosing an answer choice. After reasoning through your answer, provide your response in the following XML format:\n",
    "        <RESPONSE>\n",
    "        <REASONING>\n",
    "        [your reasoning for your answer choice]\n",
    "        </REASONING>\n",
    "        <ANSWER>\n",
    "        [your answer choice letter]\n",
    "        </ANSWER>\n",
    "        </RESPONSE>\n",
    "        \n",
    "        Your answer should be a single letter (A, B, C, or D) and your reasoning should be a short paragraph explaining what context you used to come up with your answer and the steps you took\n",
    "        to reason about the question along with the answer choice you selected. Do not include brackets in your reasoning or answer.\n",
    "        \"\"\"\n",
    "```"
   ]
  },
  {
   "cell_type": "markdown",
   "metadata": {},
   "source": [
    "## Chunk stats\n",
    "\n",
    "| Method | Compute Time (s) | Avg Size | Median Size | Max Size | Min Size | Std Dev | Num Chunks |\n",
    "|--------|------------|----------------|-------------------|----------------|----------------|---------|------------|\n",
    "| unstructured.io | 548.42 | 256.401 | 323 | 421 | 2 | 128.112 | 939 |\n",
    "| ai21.com |113.297 | 132.097 | 115 | 435 | 1 | 103.92 | 1670 |\n",
    "| chunking subnet (top miner) | 206.33 | 290.394 | 316 | 404 | 3 | 93.6567 | 832 |\n",
    "\n",
    "Above is some standard statistics for the chunks. Because [AI21's text segmentation API](https://docs.ai21.com/reference/text-segmentation-ref) does not allow for a `max_chunk_size` parameter we set the chunk size to 400 tokens to match the distribution better. Similarly, [Unstructured.io's chunker](https://docs.unstructured.io/open-source/core-functionality/chunking) uses characters rather than tokens as a metric, so we used a static multiplier of 4 to get a `max_characters` size of 1600."
   ]
  },
  {
   "cell_type": "code",
   "execution_count": 14,
   "metadata": {},
   "outputs": [
    {
     "data": {
      "image/png": "[encoded data removed]",
      "text/plain": [
       "<Figure size 1500x500 with 3 Axes>"
      ]
     },
     "metadata": {},
     "output_type": "display_data"
    }
   ],
   "source": [
    "import json\n",
    "import os\n",
    "import matplotlib.pyplot as plt\n",
    "import tiktoken\n",
    "\n",
    "chunk_methods = os.listdir(\"chunks\")\n",
    "\n",
    "fig, axs = plt.subplots(1, 3, figsize=(15, 5))\n",
    "fig.suptitle('Chunk Size Distribution by Method')\n",
    "\n",
    "tokenizer = tiktoken.get_encoding(\"o200k_base\")\n",
    "\n",
    "for i, chunk_method in enumerate(chunk_methods):    \n",
    "    with open(f\"chunks/{chunk_method}\", \"r\") as f:        \n",
    "        chunks_with_metadata = json.loads(f.read())                \n",
    "        axs[i].hist([len(tokenizer.encode(chunk[\"text\"])) for chunk in chunks_with_metadata], bins=100)        \n",
    "        axs[i].set_title(chunk_method.split(\".\")[0])\n",
    "        axs[i].set_xlabel('Chunk Size')\n",
    "        axs[i].set_ylabel('Frequency')\n",
    "        \n",
    "plt.tight_layout()\n",
    "plt.show()        "
   ]
  },
  {
   "cell_type": "markdown",
   "metadata": {},
   "source": [
    "## Results\n",
    "\n",
    "Here are the parameters we used this time around:\n",
    "\n",
    "| Parameter | Value |\n",
    "|-----------|-------|\n",
    "| Chunk size | 400 |\n",
    "| Rerank buffer size | 1000 |\n",
    "| Rerank model | \"rerank-english-v3.0\" |\n",
    "\n",
    "\n",
    "A chunk size of 400 tokens (\"o200k_base\" encoding) was chosen to be a good balance between the cost of the embeddings and the amount of context that could be provided to the model. \n",
    "\n",
    "We chose a rerank buffer size of 1000, meaning that we first embedded the question to get the top 1000 chunks from the vector database (Pinecone). These chunks were then all passed to the reranker (Cohere) with a `max_chunks_per_doc = 1` to ensure that the reranker would only use the chunks we gave it (and not chunk the chunks again).\n",
    "\n",
    "\n",
    "### Results for different top k values \n",
    "(the number of relevant chunks used as context for the question)\n",
    "\n",
    "#### Top k = 1\n",
    "\n",
    "| Method | Percent Correct | Num Correct | Num Questions |\n",
    "|--------|-----------------|-------------|---------------|\n",
    "| unstructured.io | 0.32381 | 68 | 210 |\n",
    "| ai21.com | 0.342857 | 72 | 210 |\n",
    "| subnet | **0.371429** | 78 | 210 |\n",
    "| baseline | 0.304762 | 64 | 210 |\n",
    "\n",
    "#### Top k = 2\n",
    "\n",
    "| Method | Percent Correct | Num Correct | Num Questions |\n",
    "|--------|-----------------|-------------|---------------|\n",
    "| unstructured.io | 0.380952 | 80 | 210 |\n",
    "| ai21.com | 0.385714 | 81 | 210 |\n",
    "| subnet | **0.442857** | 93 | 210 |\n",
    "| baseline | 0.32381 | 68 | 210 |\n",
    "\n",
    "#### Top k = 3\n",
    "\n",
    "| Method | Percent Correct | Num Correct | Num Questions |\n",
    "|--------|-----------------|-------------|---------------|\n",
    "| unstructured.io | 0.485714 | 102 | 210 |\n",
    "| ai21.com | 0.42381 | 89 | 210 |\n",
    "| subnet | **0.514286** | 108 | 210 |\n",
    "| baseline | 0.309524 | 65 | 210 |\n",
    "\n",
    "#### Top k = 4\n",
    "\n",
    "| Method | Percent Correct | Num Correct | Num Questions |\n",
    "|--------|-----------------|-------------|---------------|\n",
    "| unstructured.io | 0.528571 | 111 | 210 |\n",
    "| ai21.com | 0.438095 | 92 | 210 |\n",
    "| subnet | **0.538095** | 113 | 210 |\n",
    "| baseline | 0.32381 | 68 | 210 |\n",
    "\n",
    "#### Top k = 5\n",
    "\n",
    "| Method | Percent Correct | Num Correct | Num Questions |\n",
    "|--------|-----------------|-------------|---------------|\n",
    "| unstructured.io | 0.566667 | 119 | 210 |\n",
    "| ai21.com | 0.457143 | 96 | 210 |\n",
    "| subnet | **0.619048** | 130 | 210 |\n",
    "| baseline | 0.304762 | 64 | 210 |\n"
   ]
  }
 ],
 "metadata": {
  "kernelspec": {
   "display_name": "py-rzyZVdh5",
   "language": "python",
   "name": "python3"
  },
  "language_info": {
   "codemirror_mode": {
    "name": "ipython",
    "version": 3
   },
   "file_extension": ".py",
   "mimetype": "text/x-python",
   "name": "python",
   "nbconvert_exporter": "python",
   "pygments_lexer": "ipython3",
   "version": "3.12.4"
  }
 },
 "nbformat": 4,
 "nbformat_minor": 2
}
